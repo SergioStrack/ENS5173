{
 "cells": [
  {
   "cell_type": "markdown",
   "id": "83f96370-4a12-4b96-b509-7b9a38d6d72a",
   "metadata": {},
   "source": [
    "Aula 02 - Python \\\n",
    "Dados Numéricos\n"
   ]
  },
  {
   "cell_type": "code",
   "execution_count": 2,
   "id": "9adfea02-55ce-4355-8da8-3c85dbd8c2a0",
   "metadata": {},
   "outputs": [
    {
     "name": "stdout",
     "output_type": "stream",
     "text": [
      "Valor de a = 5\n"
     ]
    },
    {
     "data": {
      "text/plain": [
       "int"
      ]
     },
     "execution_count": 2,
     "metadata": {},
     "output_type": "execute_result"
    }
   ],
   "source": [
    "# Variável inteira\n",
    "#print é utilizado para mostrar algo\n",
    "a = 5\n",
    "print('Valor de a = '+str(a))\n",
    "type(a)"
   ]
  },
  {
   "cell_type": "code",
   "execution_count": 3,
   "id": "8416130b-ea70-41d5-8e1a-baf31b44e05b",
   "metadata": {},
   "outputs": [
    {
     "name": "stdout",
     "output_type": "stream",
     "text": [
      "5.0\n"
     ]
    },
    {
     "data": {
      "text/plain": [
       "float"
      ]
     },
     "execution_count": 3,
     "metadata": {},
     "output_type": "execute_result"
    }
   ],
   "source": [
    "# Variável dupla precisão\n",
    "b = 5.0\n",
    "print(b)\n",
    "type(b)"
   ]
  },
  {
   "cell_type": "code",
   "execution_count": 4,
   "id": "c85afe54-bb3f-4347-89ac-50e5e56cb556",
   "metadata": {},
   "outputs": [
    {
     "name": "stdout",
     "output_type": "stream",
     "text": [
      "5\n"
     ]
    },
    {
     "data": {
      "text/plain": [
       "int"
      ]
     },
     "execution_count": 4,
     "metadata": {},
     "output_type": "execute_result"
    }
   ],
   "source": [
    "# Converter float para int\n",
    "# mudando as váriaveis \n",
    "c = int(b)\n",
    "print(c)\n",
    "type(c)"
   ]
  },
  {
   "cell_type": "code",
   "execution_count": 7,
   "id": "389ee58c-e212-481e-bec0-10cbabb0b5a4",
   "metadata": {},
   "outputs": [
    {
     "name": "stdout",
     "output_type": "stream",
     "text": [
      "nan\n"
     ]
    },
    {
     "data": {
      "text/plain": [
       "float"
      ]
     },
     "execution_count": 7,
     "metadata": {},
     "output_type": "execute_result"
    }
   ],
   "source": [
    "# Delacrando nan\n",
    "import numpy as np\n",
    "d = np.nan\n",
    "print(d)\n",
    "type(d)"
   ]
  },
  {
   "cell_type": "code",
   "execution_count": 97,
   "id": "69be2595-27f7-4644-b39a-792a681fddb3",
   "metadata": {},
   "outputs": [
    {
     "name": "stdout",
     "output_type": "stream",
     "text": [
      "nan\n",
      "nan\n",
      "5.0\n"
     ]
    }
   ],
   "source": [
    "# Operação com NaN\n",
    "e = d*5\n",
    "print(e)\n",
    "e = d+5\n",
    "print(e)\n",
    "e = np.nansum([d,5])\n",
    "print(e)"
   ]
  },
  {
   "cell_type": "markdown",
   "id": "618edc6a-b1f8-4c74-85ba-a90009bf6bea",
   "metadata": {},
   "source": [
    "## Dados de texto"
   ]
  },
  {
   "cell_type": "code",
   "execution_count": 101,
   "id": "aed5bb0f-c051-4d32-8f23-a3ec83293d76",
   "metadata": {},
   "outputs": [
    {
     "name": "stdout",
     "output_type": "stream",
     "text": [
      "Sérgio\n",
      "Strack\n",
      "SérgioStrack\n",
      "Sérgio Strack\n"
     ]
    }
   ],
   "source": [
    "# Declaração de variável texto\n",
    "f = 'Sérgio'\n",
    "g = \"Strack\"\n",
    "print(f)\n",
    "print(g)\n",
    "print(f+g)\n",
    "print(f+' '+g)"
   ]
  },
  {
   "cell_type": "markdown",
   "id": "92cb200a-413f-4763-a8df-a2e3eaf57b7d",
   "metadata": {},
   "source": [
    "## Dados tipo bool - lógica"
   ]
  },
  {
   "cell_type": "code",
   "execution_count": 102,
   "id": "1c0007bd-269f-4644-8e18-c61b71b19ec9",
   "metadata": {},
   "outputs": [
    {
     "data": {
      "text/plain": [
       "True"
      ]
     },
     "execution_count": 102,
     "metadata": {},
     "output_type": "execute_result"
    }
   ],
   "source": [
    "# == é pra verificar a = b \n",
    "a == 5"
   ]
  },
  {
   "cell_type": "code",
   "execution_count": 103,
   "id": "7eed83e5-f3ff-4f5a-91fd-002693b91a75",
   "metadata": {},
   "outputs": [
    {
     "name": "stdout",
     "output_type": "stream",
     "text": [
      "True\n"
     ]
    },
    {
     "data": {
      "text/plain": [
       "bool"
      ]
     },
     "execution_count": 103,
     "metadata": {},
     "output_type": "execute_result"
    }
   ],
   "source": [
    "h = (a==5)\n",
    "print(h)\n",
    "type(h)"
   ]
  },
  {
   "cell_type": "code",
   "execution_count": 104,
   "id": "ad4a1538-9395-4f65-8698-2479d8bc73df",
   "metadata": {},
   "outputs": [
    {
     "name": "stdout",
     "output_type": "stream",
     "text": [
      "True\n"
     ]
    },
    {
     "data": {
      "text/plain": [
       "bool"
      ]
     },
     "execution_count": 104,
     "metadata": {},
     "output_type": "execute_result"
    }
   ],
   "source": [
    "h = (a==5)\n",
    "print(h)\n",
    "type(h)"
   ]
  },
  {
   "cell_type": "code",
   "execution_count": 15,
   "id": "e61a6bb6-4f22-40e3-a739-ddd2a91706ef",
   "metadata": {},
   "outputs": [
    {
     "data": {
      "text/plain": [
       "bool"
      ]
     },
     "execution_count": 15,
     "metadata": {},
     "output_type": "execute_result"
    }
   ],
   "source": [
    "i = True\n",
    "type(i)"
   ]
  },
  {
   "cell_type": "code",
   "execution_count": 16,
   "id": "7ed062cc-90b0-4364-9408-7be4bb46bb2c",
   "metadata": {},
   "outputs": [
    {
     "data": {
      "text/plain": [
       "str"
      ]
     },
     "execution_count": 16,
     "metadata": {},
     "output_type": "execute_result"
    }
   ],
   "source": [
    "# Retorna o tipo de dados da variáve\n",
    "ii = 'True'\n",
    "type(ii)"
   ]
  },
  {
   "cell_type": "markdown",
   "id": "a583786e-7cea-422b-8601-b33bb05e949f",
   "metadata": {},
   "source": [
    "## Operação de Coparação"
   ]
  },
  {
   "cell_type": "code",
   "execution_count": 105,
   "id": "77c52849-9e1c-4bae-b294-3b65185f8cc8",
   "metadata": {},
   "outputs": [
    {
     "data": {
      "text/plain": [
       "5"
      ]
     },
     "execution_count": 105,
     "metadata": {},
     "output_type": "execute_result"
    }
   ],
   "source": [
    "# Soma \n",
    "2+3"
   ]
  },
  {
   "cell_type": "code",
   "execution_count": 106,
   "id": "51c85396-2bd2-4a9c-b45e-960ab98da8e9",
   "metadata": {},
   "outputs": [
    {
     "name": "stdout",
     "output_type": "stream",
     "text": [
      "16\n"
     ]
    }
   ],
   "source": [
    "# Soma e atribui valor\n",
    "ab = 7+9\n",
    "print(ab)"
   ]
  },
  {
   "cell_type": "code",
   "execution_count": 109,
   "id": "4b35e650-7a14-4b42-ba52-e92b1c27269b",
   "metadata": {},
   "outputs": [
    {
     "name": "stdout",
     "output_type": "stream",
     "text": [
      "Não use l como nome de variável\n",
      "15\n"
     ]
    }
   ],
   "source": [
    "# Multiplicação\n",
    "l = a*b # Não use l como variável\n",
    "print(\"Não use l como nome de variável\")\n",
    "j = 3*5\n",
    "print(j)"
   ]
  },
  {
   "cell_type": "code",
   "execution_count": 21,
   "id": "924ee1d7-1e20-4ff7-aec5-0deb3fe66ad0",
   "metadata": {},
   "outputs": [
    {
     "data": {
      "text/plain": [
       "3.0"
      ]
     },
     "execution_count": 21,
     "metadata": {},
     "output_type": "execute_result"
    }
   ],
   "source": [
    "# Divisão\n",
    "6/2"
   ]
  },
  {
   "cell_type": "code",
   "execution_count": 22,
   "id": "e0cfb28b-5efd-4581-a7de-a3c19d072228",
   "metadata": {},
   "outputs": [
    {
     "data": {
      "text/plain": [
       "25"
      ]
     },
     "execution_count": 22,
     "metadata": {},
     "output_type": "execute_result"
    }
   ],
   "source": [
    "# Potencia\n",
    "5**2"
   ]
  },
  {
   "cell_type": "code",
   "execution_count": 110,
   "id": "ac2a389d-173e-4d8b-93d9-d3659a5746d0",
   "metadata": {},
   "outputs": [
    {
     "data": {
      "text/plain": [
       "2.6881171418161356e+43"
      ]
     },
     "execution_count": 110,
     "metadata": {},
     "output_type": "execute_result"
    }
   ],
   "source": [
    "# Operações matemáticas com a bibliotéca math\n",
    "import math\n",
    "\n",
    "math.exp(100)"
   ]
  },
  {
   "cell_type": "code",
   "execution_count": 111,
   "id": "1a0490d5-ddbe-4998-950d-40bc3f1a724d",
   "metadata": {},
   "outputs": [
    {
     "data": {
      "text/plain": [
       "8103.083927575384"
      ]
     },
     "execution_count": 111,
     "metadata": {},
     "output_type": "execute_result"
    }
   ],
   "source": [
    "math.exp(9)"
   ]
  },
  {
   "cell_type": "code",
   "execution_count": 112,
   "id": "0fd3f34d-e9c9-4707-9f85-3ca60e5b3df8",
   "metadata": {},
   "outputs": [
    {
     "data": {
      "text/plain": [
       "2980.9579870417283"
      ]
     },
     "execution_count": 112,
     "metadata": {},
     "output_type": "execute_result"
    }
   ],
   "source": [
    "math.exp(8)"
   ]
  },
  {
   "cell_type": "code",
   "execution_count": 114,
   "id": "3f9ebbdd-c20f-41f2-a909-06975fbc4fb2",
   "metadata": {},
   "outputs": [
    {
     "data": {
      "text/plain": [
       "0.36787944117144233"
      ]
     },
     "execution_count": 114,
     "metadata": {},
     "output_type": "execute_result"
    }
   ],
   "source": [
    "math.exp(-1)"
   ]
  },
  {
   "cell_type": "code",
   "execution_count": 115,
   "id": "4724dd2b-15c7-400a-ad7f-a7892f174c96",
   "metadata": {},
   "outputs": [
    {
     "data": {
      "text/plain": [
       "4.290459441148391"
      ]
     },
     "execution_count": 115,
     "metadata": {},
     "output_type": "execute_result"
    }
   ],
   "source": [
    "#puxando a biblioteca\n",
    "import math as mt\n",
    "mt.log(73)"
   ]
  },
  {
   "cell_type": "code",
   "execution_count": 116,
   "id": "aa8ceec5-6356-4a84-96f5-6244a05b622a",
   "metadata": {},
   "outputs": [
    {
     "data": {
      "text/plain": [
       "0.6989700043360189"
      ]
     },
     "execution_count": 116,
     "metadata": {},
     "output_type": "execute_result"
    }
   ],
   "source": [
    "mt.log10(5)"
   ]
  },
  {
   "cell_type": "markdown",
   "id": "214ddd69-91f6-49be-b977-ebef16a6c5bd",
   "metadata": {},
   "source": [
    "## Listas"
   ]
  },
  {
   "cell_type": "code",
   "execution_count": 117,
   "id": "4f7cd29e-d473-4ae7-9bf1-32d875351dfd",
   "metadata": {},
   "outputs": [
    {
     "name": "stdout",
     "output_type": "stream",
     "text": [
      "[5, 10, 15]\n"
     ]
    }
   ],
   "source": [
    "myFirstList = [5,10,15]\n",
    "print(myFirstList)"
   ]
  },
  {
   "cell_type": "code",
   "execution_count": 118,
   "id": "74ebe38b-3e5d-458a-abdf-7cab0e4d76fc",
   "metadata": {},
   "outputs": [
    {
     "data": {
      "text/plain": [
       "False"
      ]
     },
     "execution_count": 118,
     "metadata": {},
     "output_type": "execute_result"
    }
   ],
   "source": [
    "myFirstList==5"
   ]
  },
  {
   "cell_type": "code",
   "execution_count": 122,
   "id": "246d4a88-eaf8-4380-a1ca-d943ccc2fa98",
   "metadata": {},
   "outputs": [
    {
     "data": {
      "text/plain": [
       "False"
      ]
     },
     "execution_count": 122,
     "metadata": {},
     "output_type": "execute_result"
    }
   ],
   "source": [
    "myFirstList[1]==a"
   ]
  },
  {
   "cell_type": "code",
   "execution_count": 123,
   "id": "8dc6bd6b-6ec7-4d4c-bb97-389e5bbc8915",
   "metadata": {},
   "outputs": [
    {
     "name": "stdout",
     "output_type": "stream",
     "text": [
      "[5, 5, 'c']\n"
     ]
    }
   ],
   "source": [
    "mySecList = [5,a,'c']\n",
    "print(mySecList)"
   ]
  },
  {
   "cell_type": "code",
   "execution_count": 34,
   "id": "4b66eeb3-2036-4221-871a-60cbacf1baee",
   "metadata": {},
   "outputs": [
    {
     "data": {
      "text/plain": [
       "list"
      ]
     },
     "execution_count": 34,
     "metadata": {},
     "output_type": "execute_result"
    }
   ],
   "source": [
    "type(mySecList)"
   ]
  },
  {
   "cell_type": "code",
   "execution_count": 128,
   "id": "7374f0fe-98c4-4f1f-9f71-635bbee5f7c5",
   "metadata": {},
   "outputs": [
    {
     "data": {
      "text/plain": [
       "str"
      ]
     },
     "execution_count": 128,
     "metadata": {},
     "output_type": "execute_result"
    }
   ],
   "source": [
    "type(mySecList[2])"
   ]
  },
  {
   "cell_type": "code",
   "execution_count": 36,
   "id": "918f04b6-29cc-48d0-8a0a-9c7ec7c5043b",
   "metadata": {},
   "outputs": [
    {
     "data": {
      "text/plain": [
       "int"
      ]
     },
     "execution_count": 36,
     "metadata": {},
     "output_type": "execute_result"
    }
   ],
   "source": [
    "type(mySecList[1])"
   ]
  },
  {
   "cell_type": "markdown",
   "id": "4fd3ab12-6f28-459c-90d6-25bb8f450828",
   "metadata": {},
   "source": [
    "## Caminhos = Path"
   ]
  },
  {
   "cell_type": "code",
   "execution_count": 38,
   "id": "d5939b9b-3b10-400c-b2e8-bda40e1377c5",
   "metadata": {},
   "outputs": [
    {
     "name": "stdout",
     "output_type": "stream",
     "text": [
      "C:\\Users\\Win10\\Documents\\Python.atm\\ENS410064-polui-o-atm-\n"
     ]
    }
   ],
   "source": [
    "path = r\"C:\\Users\\Win10\\Documents\\Python.atm\\ENS410064-polui-o-atm-\"\n",
    "print(path)"
   ]
  },
  {
   "cell_type": "code",
   "execution_count": 48,
   "id": "2aff14df-9184-4337-8e23-8a156f87abea",
   "metadata": {},
   "outputs": [
    {
     "ename": "SyntaxError",
     "evalue": "(unicode error) 'unicodeescape' codec can't decode bytes in position 2-3: truncated \\UXXXXXXXX escape (2057685505.py, line 1)",
     "output_type": "error",
     "traceback": [
      "\u001b[1;36m  Cell \u001b[1;32mIn[48], line 1\u001b[1;36m\u001b[0m\n\u001b[1;33m    path = \"C:\\Users\\Win10\\Documents\\Python.atm\\ENS410064-polui-o-atm-\"\u001b[0m\n\u001b[1;37m           ^\u001b[0m\n\u001b[1;31mSyntaxError\u001b[0m\u001b[1;31m:\u001b[0m (unicode error) 'unicodeescape' codec can't decode bytes in position 2-3: truncated \\UXXXXXXXX escape\n"
     ]
    }
   ],
   "source": [
    "path = \"C:\\Users\\Win10\\Documents\\Python.atm\\ENS410064-polui-o-atm-\"\n",
    "print(path)"
   ]
  },
  {
   "cell_type": "code",
   "execution_count": 45,
   "id": "2fe9adbb-64f0-4c48-9a06-54cae4ce52bf",
   "metadata": {},
   "outputs": [
    {
     "ename": "FileNotFoundError",
     "evalue": "[WinError 3] O sistema não pode encontrar o caminho especificado: 'C:/Users/Leonardo.Hoinaski/Documents/ENS410064_1'",
     "output_type": "error",
     "traceback": [
      "\u001b[1;31m---------------------------------------------------------------------------\u001b[0m",
      "\u001b[1;31mFileNotFoundError\u001b[0m                         Traceback (most recent call last)",
      "Cell \u001b[1;32mIn[45], line 3\u001b[0m\n\u001b[0;32m      1\u001b[0m \u001b[38;5;28;01mimport\u001b[39;00m \u001b[38;5;21;01mos\u001b[39;00m\n\u001b[0;32m      2\u001b[0m \u001b[38;5;66;03m# Listar arquivos na pasta\u001b[39;00m\n\u001b[1;32m----> 3\u001b[0m \u001b[43mos\u001b[49m\u001b[38;5;241;43m.\u001b[39;49m\u001b[43mlistdir\u001b[49m\u001b[43m(\u001b[49m\u001b[43mpath\u001b[49m\u001b[43m)\u001b[49m\n",
      "\u001b[1;31mFileNotFoundError\u001b[0m: [WinError 3] O sistema não pode encontrar o caminho especificado: 'C:/Users/Leonardo.Hoinaski/Documents/ENS410064_1'"
     ]
    }
   ],
   "source": [
    "import os \n",
    "# Listar arquivos na pasta\n",
    "os.listdir(path)"
   ]
  },
  {
   "cell_type": "code",
   "execution_count": 50,
   "id": "f184aa49-88a9-4df3-ade1-cdb6af86069e",
   "metadata": {},
   "outputs": [
    {
     "ename": "FileNotFoundError",
     "evalue": "[WinError 3] O sistema não pode encontrar o caminho especificado: 'C:/Users/Leonardo.Hoinaski/Documents/ENS410064_1'",
     "output_type": "error",
     "traceback": [
      "\u001b[1;31m---------------------------------------------------------------------------\u001b[0m",
      "\u001b[1;31mFileNotFoundError\u001b[0m                         Traceback (most recent call last)",
      "Cell \u001b[1;32mIn[50], line 2\u001b[0m\n\u001b[0;32m      1\u001b[0m \u001b[38;5;66;03m# Selecionar primeiro arquivo listado\u001b[39;00m\n\u001b[1;32m----> 2\u001b[0m \u001b[43mos\u001b[49m\u001b[38;5;241;43m.\u001b[39;49m\u001b[43mlistdir\u001b[49m\u001b[43m(\u001b[49m\u001b[43mpath\u001b[49m\u001b[43m)\u001b[49m[\u001b[38;5;241m3\u001b[39m]\n",
      "\u001b[1;31mFileNotFoundError\u001b[0m: [WinError 3] O sistema não pode encontrar o caminho especificado: 'C:/Users/Leonardo.Hoinaski/Documents/ENS410064_1'"
     ]
    }
   ],
   "source": [
    "# Selecionar primeiro arquivo listado\n",
    "os.listdir(path)[3]"
   ]
  },
  {
   "cell_type": "code",
   "execution_count": 51,
   "id": "5f3ef783-35b5-4d19-bc4e-53ba53188b57",
   "metadata": {},
   "outputs": [
    {
     "ename": "FileNotFoundError",
     "evalue": "[WinError 3] O sistema não pode encontrar o caminho especificado: 'C:/Users/Leonardo.Hoinaski/Documents/ENS410064_1'",
     "output_type": "error",
     "traceback": [
      "\u001b[1;31m---------------------------------------------------------------------------\u001b[0m",
      "\u001b[1;31mFileNotFoundError\u001b[0m                         Traceback (most recent call last)",
      "Cell \u001b[1;32mIn[51], line 2\u001b[0m\n\u001b[0;32m      1\u001b[0m \u001b[38;5;66;03m# Concatenando caminhos\u001b[39;00m\n\u001b[1;32m----> 2\u001b[0m path\u001b[38;5;241m+\u001b[39m\u001b[38;5;124m\"\u001b[39m\u001b[38;5;124m/\u001b[39m\u001b[38;5;124m\"\u001b[39m\u001b[38;5;241m+\u001b[39m\u001b[43mos\u001b[49m\u001b[38;5;241;43m.\u001b[39;49m\u001b[43mlistdir\u001b[49m\u001b[43m(\u001b[49m\u001b[43mpath\u001b[49m\u001b[43m)\u001b[49m[\u001b[38;5;241m0\u001b[39m]\n",
      "\u001b[1;31mFileNotFoundError\u001b[0m: [WinError 3] O sistema não pode encontrar o caminho especificado: 'C:/Users/Leonardo.Hoinaski/Documents/ENS410064_1'"
     ]
    }
   ],
   "source": [
    "# Concatenando caminhos\n",
    "path+\"/\"+os.listdir(path)[0]"
   ]
  },
  {
   "cell_type": "code",
   "execution_count": 52,
   "id": "575c0787-9182-41cd-bb0f-d3e0d4071a15",
   "metadata": {},
   "outputs": [
    {
     "ename": "FileNotFoundError",
     "evalue": "[WinError 3] O sistema não pode encontrar o caminho especificado: 'C:/Users/Leonardo.Hoinaski/Documents/ENS410064_1'",
     "output_type": "error",
     "traceback": [
      "\u001b[1;31m---------------------------------------------------------------------------\u001b[0m",
      "\u001b[1;31mFileNotFoundError\u001b[0m                         Traceback (most recent call last)",
      "Cell \u001b[1;32mIn[52], line 2\u001b[0m\n\u001b[0;32m      1\u001b[0m \u001b[38;5;66;03m# Listando caminho concatenado\u001b[39;00m\n\u001b[1;32m----> 2\u001b[0m os\u001b[38;5;241m.\u001b[39mlistdir(path\u001b[38;5;241m+\u001b[39m\u001b[38;5;124m\"\u001b[39m\u001b[38;5;124m/\u001b[39m\u001b[38;5;124m\"\u001b[39m\u001b[38;5;241m+\u001b[39m\u001b[43mos\u001b[49m\u001b[38;5;241;43m.\u001b[39;49m\u001b[43mlistdir\u001b[49m\u001b[43m(\u001b[49m\u001b[43mpath\u001b[49m\u001b[43m)\u001b[49m[\u001b[38;5;241m0\u001b[39m])\n",
      "\u001b[1;31mFileNotFoundError\u001b[0m: [WinError 3] O sistema não pode encontrar o caminho especificado: 'C:/Users/Leonardo.Hoinaski/Documents/ENS410064_1'"
     ]
    }
   ],
   "source": [
    "# Listando caminho concatenado\n",
    "os.listdir(path+\"/\"+os.listdir(path)[0])"
   ]
  },
  {
   "cell_type": "code",
   "execution_count": 53,
   "id": "20f5d5dd-b3e9-4fc4-8dd0-2616f144d602",
   "metadata": {},
   "outputs": [
    {
     "data": {
      "text/plain": [
       "'C:\\\\Users\\\\Win10\\\\Documents\\\\Python.atm\\\\ENS410064-polui-o-atm-\\\\venv\\\\Scripts'"
      ]
     },
     "execution_count": 53,
     "metadata": {},
     "output_type": "execute_result"
    }
   ],
   "source": [
    "# Diretório que estou trababalhando\n",
    "os.getcwd()"
   ]
  },
  {
   "cell_type": "code",
   "execution_count": 60,
   "id": "7a679a83-2144-4896-b3d4-3af6bb24546d",
   "metadata": {},
   "outputs": [
    {
     "ename": "SyntaxError",
     "evalue": "(unicode error) 'unicodeescape' codec can't decode bytes in position 3-4: truncated \\UXXXXXXXX escape (1416611338.py, line 2)",
     "output_type": "error",
     "traceback": [
      "\u001b[1;36m  Cell \u001b[1;32mIn[60], line 2\u001b[1;36m\u001b[0m\n\u001b[1;33m    os.chdir('\"C:\\Users\\Win10\\Documents\\\"')\u001b[0m\n\u001b[1;37m             ^\u001b[0m\n\u001b[1;31mSyntaxError\u001b[0m\u001b[1;31m:\u001b[0m (unicode error) 'unicodeescape' codec can't decode bytes in position 3-4: truncated \\UXXXXXXXX escape\n"
     ]
    }
   ],
   "source": [
    "# Mudo de diretório para o caminho \n",
    "os.chdir('\"C:\\Users\\Win10\\Documents\\\"')"
   ]
  },
  {
   "cell_type": "code",
   "execution_count": 61,
   "id": "ed134fcb-1249-4d46-b1c9-0137fedd49ea",
   "metadata": {},
   "outputs": [
    {
     "data": {
      "text/plain": [
       "'C:\\\\Users\\\\Win10\\\\Documents\\\\Python.atm\\\\ENS410064-polui-o-atm-\\\\venv\\\\Scripts'"
      ]
     },
     "execution_count": 61,
     "metadata": {},
     "output_type": "execute_result"
    }
   ],
   "source": [
    "os.getcwd()"
   ]
  },
  {
   "cell_type": "code",
   "execution_count": 62,
   "id": "8d564dfc-5e1e-408e-b8c7-63a395f4a58b",
   "metadata": {},
   "outputs": [
    {
     "name": "stdout",
     "output_type": "stream",
     "text": [
      "Criando diretório C:\\Users\\Win10\\Documents\\Python.atm\\ENS410064-polui-o-atm-\\venv\\Scripts/test\n"
     ]
    }
   ],
   "source": [
    "# Criando diretório\n",
    "new_path = os.getcwd()+'/test'\n",
    "\n",
    "if os.path.isdir(new_path):\n",
    "    print('diretório já existe')\n",
    "else:\n",
    "    print('Criando diretório '+new_path)\n",
    "    os.mkdir(new_path)"
   ]
  },
  {
   "cell_type": "code",
   "execution_count": 63,
   "id": "651635d9-b18a-486e-ad8c-28dab5def468",
   "metadata": {},
   "outputs": [
    {
     "name": "stdout",
     "output_type": "stream",
     "text": [
      "Criando diretório C:\\Users\\Win10\\Documents\\Python.atm\\ENS410064-polui-o-atm-\\venv\\Scripts/test2\n"
     ]
    }
   ],
   "source": [
    "# Criando diretório\n",
    "new_path = os.getcwd()+'/test2'\n",
    "\n",
    "if os.path.isdir(new_path):\n",
    "    print('diretório já existe')\n",
    "    # Criando um arquivo de texto\n",
    "    with open(new_path+\"/copy.txt\", \"w\") as file:\n",
    "        file.write(\"Your text goes here\")\n",
    "else:\n",
    "    print('Criando diretório '+new_path)\n",
    "    os.mkdir(new_path)\n",
    "    with open(new_path+\"/copy.txt\", \"w\") as file:\n",
    "        file.write(\"Your text goes here\")"
   ]
  },
  {
   "cell_type": "markdown",
   "id": "fbe3ed30-9d71-4a3b-b5b2-73630d67537f",
   "metadata": {},
   "source": [
    "## Numpy arrays e Pandas DataFrames"
   ]
  },
  {
   "cell_type": "code",
   "execution_count": 64,
   "id": "bb36795e-b8ef-4f50-95d8-8dbc666d2cb0",
   "metadata": {},
   "outputs": [
    {
     "data": {
      "text/plain": [
       "numpy.ndarray"
      ]
     },
     "execution_count": 64,
     "metadata": {},
     "output_type": "execute_result"
    }
   ],
   "source": [
    "import numpy as np\n",
    "# Criando uma variável numpy\n",
    "n = np.array(0)\n",
    "type(n)"
   ]
  },
  {
   "cell_type": "code",
   "execution_count": 66,
   "id": "0e490d3f-f324-4535-a3e4-ea4d594a8ad1",
   "metadata": {},
   "outputs": [
    {
     "name": "stdout",
     "output_type": "stream",
     "text": [
      "[ 5 10 15 20 25 30]\n"
     ]
    }
   ],
   "source": [
    "# Criando uma variável numpy a partir de uma lista\n",
    "myThirdList=[5,10,15,20,25,30]\n",
    "n = np.array(myThirdList)\n",
    "print(n)"
   ]
  },
  {
   "cell_type": "code",
   "execution_count": 68,
   "id": "885d24ff-a0b9-4290-8943-b3ae79bb5130",
   "metadata": {},
   "outputs": [
    {
     "name": "stdout",
     "output_type": "stream",
     "text": [
      "[[0.32768399 0.54265796 0.68247058 0.57076492 0.54904296]\n",
      " [0.99320821 0.08401097 0.24913379 0.32408801 0.71366736]\n",
      " [0.65372172 0.09173893 0.51923768 0.71460188 0.13694952]\n",
      " [0.97826642 0.61853954 0.63332463 0.23947415 0.93817108]\n",
      " [0.50029057 0.64498478 0.37717422 0.83764422 0.25864054]]\n",
      "(5, 5)\n"
     ]
    }
   ],
   "source": [
    "# Criando uma matriz de 10x10 de números aleatórios entre 0 e 1\n",
    "n = np.random.rand(5,5)\n",
    "print(n)\n",
    "# Dimensões da matrix\n",
    "print(n.shape)"
   ]
  },
  {
   "cell_type": "code",
   "execution_count": 73,
   "id": "5196319a-0509-4194-89bf-2ca5a6581be6",
   "metadata": {},
   "outputs": [
    {
     "data": {
      "text/plain": [
       "array([0.97826642, 0.61853954, 0.63332463, 0.23947415, 0.93817108])"
      ]
     },
     "execution_count": 73,
     "metadata": {},
     "output_type": "execute_result"
    }
   ],
   "source": [
    "# Acessando valores da matriz\n",
    "n[3,:]"
   ]
  },
  {
   "cell_type": "code",
   "execution_count": 74,
   "id": "660e29d7-9ee5-4c07-af2d-ec83ec1b162f",
   "metadata": {},
   "outputs": [
    {
     "data": {
      "text/plain": [
       "array([0.57076492, 0.32408801, 0.71460188, 0.23947415, 0.83764422])"
      ]
     },
     "execution_count": 74,
     "metadata": {},
     "output_type": "execute_result"
    }
   ],
   "source": [
    "n[:,3]"
   ]
  },
  {
   "cell_type": "code",
   "execution_count": 76,
   "id": "e0fd162b-80d5-4214-ba2d-03c433813ea8",
   "metadata": {},
   "outputs": [
    {
     "data": {
      "text/plain": [
       "array([[0.57076492],\n",
       "       [0.32408801],\n",
       "       [0.71460188],\n",
       "       [0.23947415],\n",
       "       [0.83764422]])"
      ]
     },
     "execution_count": 76,
     "metadata": {},
     "output_type": "execute_result"
    }
   ],
   "source": [
    "n[:,3:4]"
   ]
  },
  {
   "cell_type": "code",
   "execution_count": 78,
   "id": "04878d58-515f-412f-bf68-3c9596a19c7f",
   "metadata": {},
   "outputs": [
    {
     "data": {
      "text/plain": [
       "array([0.57076492])"
      ]
     },
     "execution_count": 78,
     "metadata": {},
     "output_type": "execute_result"
    }
   ],
   "source": [
    "n[0,3:4]"
   ]
  },
  {
   "cell_type": "code",
   "execution_count": 85,
   "id": "9d56e2ea-4388-485a-af10-09d88d5dc469",
   "metadata": {},
   "outputs": [
    {
     "data": {
      "text/plain": [
       "0.5426579598236239"
      ]
     },
     "execution_count": 85,
     "metadata": {},
     "output_type": "execute_result"
    }
   ],
   "source": [
    "n[0,-4]"
   ]
  },
  {
   "cell_type": "code",
   "execution_count": 82,
   "id": "0a78cd74-1b8d-4018-8801-903e8a24c7d9",
   "metadata": {},
   "outputs": [
    {
     "data": {
      "text/plain": [
       "array([0.57076492])"
      ]
     },
     "execution_count": 82,
     "metadata": {},
     "output_type": "execute_result"
    }
   ],
   "source": [
    "n[0,3:-1]"
   ]
  },
  {
   "cell_type": "code",
   "execution_count": 87,
   "id": "47915318-f88c-45ae-91b7-cfb358b340d1",
   "metadata": {},
   "outputs": [
    {
     "data": {
      "text/plain": [
       "array([0.68247058, 0.57076492, 0.54904296])"
      ]
     },
     "execution_count": 87,
     "metadata": {},
     "output_type": "execute_result"
    }
   ],
   "source": [
    "n[0,2:]"
   ]
  },
  {
   "cell_type": "code",
   "execution_count": 93,
   "id": "ba9e4c35-c73d-4080-9ea9-fa363e3a7863",
   "metadata": {},
   "outputs": [
    {
     "name": "stdout",
     "output_type": "stream",
     "text": [
      "[[ 1.18687952  1.69130903  1.92054923  1.74180724  1.70300651]\n",
      " [ 2.29577013 -0.17422274  0.91281988  1.17584494  1.96524679]\n",
      " [ 1.87751158 -0.08622337  1.64719155  1.96655539  0.31444218]\n",
      " [ 2.28061186  1.82219093  1.84581295  0.87327528  2.23876214]\n",
      " [ 1.61001889  1.86405653  1.32753703  2.12542326  0.95026902]]\n"
     ]
    }
   ],
   "source": [
    "an = np.log(n*10)\n",
    "print(an)"
   ]
  },
  {
   "cell_type": "code",
   "execution_count": null,
   "id": "634e299a-f83e-4caa-8407-befe6f0722f4",
   "metadata": {},
   "outputs": [],
   "source": []
  }
 ],
 "metadata": {
  "kernelspec": {
   "display_name": "Python 3 (ipykernel)",
   "language": "python",
   "name": "python3"
  },
  "language_info": {
   "codemirror_mode": {
    "name": "ipython",
    "version": 3
   },
   "file_extension": ".py",
   "mimetype": "text/x-python",
   "name": "python",
   "nbconvert_exporter": "python",
   "pygments_lexer": "ipython3",
   "version": "3.12.0"
  }
 },
 "nbformat": 4,
 "nbformat_minor": 5
}
